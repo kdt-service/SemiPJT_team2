{
 "cells": [
  {
   "cell_type": "code",
   "execution_count": 1,
   "id": "638be5f7",
   "metadata": {},
   "outputs": [],
   "source": [
    "#필요 모듈 임포트\n",
    "import requests\n",
    "from bs4 import BeautifulSoup\n",
    "import pandas as pd\n",
    "import datetime\n",
    "import time"
   ]
  },
  {
   "cell_type": "code",
   "execution_count": 122,
   "id": "c0dfee3b",
   "metadata": {},
   "outputs": [],
   "source": [
    "URL = 'https://www.jobkorea.co.kr/Starter/PassAssay?schPart=10026&schWork=&schEduLevel=&schCType=&schGroup=&isSaved=1&isFilterChecked=1&OrderBy=0&schTxt='"
   ]
  },
  {
   "cell_type": "code",
   "execution_count": 123,
   "id": "afa72dca",
   "metadata": {},
   "outputs": [
    {
     "name": "stdout",
     "output_type": "stream",
     "text": [
      "<Response [200]>\n"
     ]
    }
   ],
   "source": [
    "response = requests.get(URL)    \n",
    "print(response)\n",
    "soup = BeautifulSoup(response.text, 'html.parser')"
   ]
  },
  {
   "cell_type": "code",
   "execution_count": 150,
   "id": "b6877405",
   "metadata": {
    "scrolled": false
   },
   "outputs": [
    {
     "name": "stdout",
     "output_type": "stream",
     "text": [
      "소요시간 : 713 초\n"
     ]
    }
   ],
   "source": [
    "#최종코드\n",
    "\n",
    "breaker = False\n",
    "page = 1\n",
    "ja_df_list = []\n",
    "start_time = time.time()\n",
    "\n",
    "while True:\n",
    "    if breaker == True:\n",
    "        break\n",
    "    URL = 'https://www.jobkorea.co.kr/starter/PassAssay?FavorCo_Stat=0&Pass_An_Stat=0&OrderBy=0&EduType=0&WorkType=0&schPart=10026&isSaved=1&Page={}'\n",
    "    response = requests.get(URL.format(page))    \n",
    "    soup = BeautifulSoup(response.text, 'html.parser')\n",
    "    ja_list = soup.select('.selfLists li')\n",
    "\n",
    "    for li in ja_list:\n",
    "\n",
    "        if li.text == '선택한 조건으로 합격 자기소개서를 찾지 못했습니다.다른 조건으로 검색해주세요.':\n",
    "            breaker = True\n",
    "            break\n",
    "        \n",
    "        url = li.select_one('.txBx .tit a[href]').attrs[\"href\"] #자소서 상세 내용 url\n",
    "        response = requests.get('https://www.jobkorea.co.kr/'+url)  \n",
    "        soup = BeautifulSoup(response.text, 'html.parser')\n",
    "        Q_list = soup.select('.qnaLists dt') #질문 리스트\n",
    "        A_list = soup.select('.qnaLists dd') #답변 리스트\n",
    "        \n",
    "        for i in range(len(Q_list)):\n",
    "            ja_dict = {}\n",
    "            ja_dict['section'] ='기획·전략'\n",
    "            ja_dict['company'] = soup.select_one('.hd a').text\n",
    "            ja_dict['date'] = soup.select_one('.hd em').text[:9]\n",
    "            ja_dict['work_type'] = soup.select_one('.hd em').text[10:12]\n",
    "            ja_dict['job'] = soup.select_one('.hd em').text[13:]\n",
    "            ja_dict['question'] = Q_list[i].select_one('.tx').text\n",
    "            ja_dict['answer'] = A_list[i].select_one('.tx').text\n",
    "\n",
    "            df_one = pd.DataFrame([ja_dict])\n",
    "            ja_df_list.append(df_one)\n",
    "\n",
    "    page += 1\n",
    "    \n",
    "df = pd.concat(ja_df_list, ignore_index=True)\n",
    "\n",
    "print('소요시간 :', int(time.time() - start_time), '초')"
   ]
  },
  {
   "cell_type": "code",
   "execution_count": 149,
   "id": "80c39cde",
   "metadata": {},
   "outputs": [],
   "source": [
    "df_1 = df#인사·HR"
   ]
  },
  {
   "cell_type": "code",
   "execution_count": 147,
   "id": "866a0dba",
   "metadata": {},
   "outputs": [
    {
     "data": {
      "text/plain": [
       "'\\r\\n가장 중요하게 생각하는 것은 \"책임감\"입니다. 지금까지 제가 맡은 일은 투철한 책임감을 느끼고 완벽하게 해냈습니다. 어릴 적부터 생각을 많이 하였습니다. 무엇을 결정해야 할 때면 항상 신중히 생각하여 결정하고 있습니다. 세밀하게 두 번 이상 점검하는 습관을 지니고 있습니다. 꼼꼼한 일 처리로 동료에게 신뢰 받고 있습니다. 주어진 업무를 완벽하게 하려고 항상 메모하는 습관을 갖고 있습니다. 원하는 것은 꼭 해야 하는 성격이기에 포기한 적은 없습니다. 끝내 해내었습니다. 사람들은 저를 보면 유쾌하다고 합니다. 긍정적인 성격으로 항상 즐겁게 생활하기 때문입니다. 주위 사람들은 이런 저의 성격 때문에 업무 문제나 인생 문제를 많이 상담하기도 합니다. 남의 이야기를 들어주는 게 전 즐겁습니다. 사람들의 이야기를 들어주다 보면 고민이 해결되기도 하고, 기분이 좋아지기도 합니다. 낙천적인 저의 장점은 긍정적으로 생각하게 하고 즐겁게 모든 일을 할 수 있게 합니다.                        글자수 482자831Byte\\n'"
      ]
     },
     "execution_count": 147,
     "metadata": {},
     "output_type": "execute_result"
    }
   ],
   "source": [
    "df.loc[0]['answer']"
   ]
  },
  {
   "cell_type": "code",
   "execution_count": 148,
   "id": "3f52f1d3",
   "metadata": {},
   "outputs": [
    {
     "data": {
      "text/plain": [
       "'\\r\\n속도보다 중요한 것은 방향이라고 생각합니다. \"기회는 준비하는 자의 몫\"이라는 말이 있듯이 자신의 이상과 꿈의 실현을 위한 기회를 잡기 위해서 지금까지 꾸준한 노력을 해왔습니다. 특히 자신에게 주어진 일에서는 기본적으로 성실함과 근면함으로 생활해 왔으며 학업과 다양한 사회 경험을 통해 전문가가 되기 위해 자기 계발에 적극적인 노력을 해왔습니다. 홍보와 마케팅 업무를 담당하였습니다. 그리고 여러 박람회와 행사에도 참여하였습니다. 행정지원 업무를 하며 문서관리와 다양한 내부 자산도 관리하였습니다. 인적자원들에 대한 관리와 교육 운영을 담당하였고 여러 기업과도 소통하였습니다. 기업에 대한 데이터와 여러 불만 사항 들을 듣고 바로 응답하고 여러 가지 일정과 비용들을 조정하였습니다.\\r 취업을 준비하면서 어려움을 많이 느꼈습니다. 취업을 원하는 구직자들이 저와 같이 어려움을 느낄 것으로 생각이 들었습니다. 그들에게 도움을 주면서 저도 직업적인 목표를 이루고자 하는 생각을 하였습니다. 사람들의 고민을 들어주고 함께 해결해나가는 사람이 되고 싶습니다. 세무회계 자격증을 취득하기 위해 노력하였습니다. 세무 업무는 암기사항이 많고 항상 세법이 변하기 때문에 상당히 어려운 공부였습니다. 하지만 여러 사례를 찾아 학습하였습니다. 그 결과 전산회계, 전산세무 자격증을 취득하였습니다. 속도보다 중요한 것은 방향이라고 생각합니다. \"기회는 준비하는 자의 몫\"이라는 말이 있듯이 자신의 이상과 꿈의 실현을 위한 기회를 잡기 위해서 지금까지 꾸준한 노력을 해왔습니다. 특히 자신에게 주어진 일에서는 기본적으로 성실함과 근면함으로 생활해 왔으며 학업과 다양한 사회 경험을 통해 전문가가 되기 위하여 자기 계발에 적극적인 노력을 해왔습니다.                        글자수 855자1,493Byte\\n'"
      ]
     },
     "execution_count": 148,
     "metadata": {},
     "output_type": "execute_result"
    }
   ],
   "source": [
    "df.loc[1]['answer']"
   ]
  },
  {
   "cell_type": "code",
   "execution_count": null,
   "id": "56a4fdb6",
   "metadata": {},
   "outputs": [],
   "source": []
  }
 ],
 "metadata": {
  "kernelspec": {
   "display_name": "Python 3 (ipykernel)",
   "language": "python",
   "name": "python3"
  },
  "language_info": {
   "codemirror_mode": {
    "name": "ipython",
    "version": 3
   },
   "file_extension": ".py",
   "mimetype": "text/x-python",
   "name": "python",
   "nbconvert_exporter": "python",
   "pygments_lexer": "ipython3",
   "version": "3.8.16"
  }
 },
 "nbformat": 4,
 "nbformat_minor": 5
}
