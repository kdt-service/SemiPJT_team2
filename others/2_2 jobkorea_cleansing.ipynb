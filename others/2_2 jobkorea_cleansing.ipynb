{
 "cells": [
  {
   "cell_type": "code",
   "execution_count": 2,
   "id": "7179a0b2",
   "metadata": {},
   "outputs": [],
   "source": [
    "import pandas as pd\n",
    "import numpy as np\n",
    "import re"
   ]
  },
  {
   "cell_type": "code",
   "execution_count": 3,
   "id": "6c25dd6e",
   "metadata": {},
   "outputs": [],
   "source": [
    "#csv df로 불러오기\n",
    "df=pd.read_csv('jobkorea.csv')"
   ]
  },
  {
   "cell_type": "markdown",
   "id": "2f431697",
   "metadata": {},
   "source": [
    "## Column : Question 항목"
   ]
  },
  {
   "cell_type": "code",
   "execution_count": 94,
   "id": "d7a15969",
   "metadata": {},
   "outputs": [],
   "source": [
    "# 1. (400자 이내)와 같이 글자수 지정 내용 지우기! \n",
    "df['question']=df['question'].map(lambda x:re.sub('\\(\\d*,?\\d*자 ?이내\\)', '', str(x))) \n",
    "# 2. [400자 이내]와 같이 글자수 지정 내용 지우기! \n",
    "df['question']=df['question'].map(lambda x:re.sub('\\[\\d*,?\\d*자 ?이내\\]', '', str(x))) \n",
    "# 3. (600자)와 같이 글자수 지정 내용 지우기! \n",
    "df['question']=df['question'].map(lambda x:re.sub('\\(\\d+자.*\\)', '', str(x))) \n",
    "# 4. (최소 100자, 최대 500자 입력가능)와 같이 글자수 지정 내용 지우기! \n",
    "df['question']=df['question'].map(lambda x:re.sub('\\(.+\\d자.+\\d자.*\\)', '', str(x))) \n",
    "# 5. [ 50자 이상 1000자 이내] 와 같이 글자수 지정 내용 지우기! \n",
    "df['question']=df['question'].map(lambda x:re.sub('\\[.+\\d자.+\\d자.*\\]', '', str(x))) \n",
    "# 6. (1200Byte) 와 같이 Byte 수 내용 지우기\n",
    "df['question']=df['question'].map(lambda x:re.sub('\\(\\d+,?\\d+Byte\\)', '', str(x))) "
   ]
  },
  {
   "cell_type": "code",
   "execution_count": 96,
   "id": "c9dcb120",
   "metadata": {},
   "outputs": [],
   "source": [
    "# 2. [400자 이내]와 같이 글자수 지정 내용 지우기! \n",
    "df['question']=df['question'].map(lambda x:re.sub('\\[\\d*,?\\d*자 ?이내\\]', '', str(x))) "
   ]
  },
  {
   "cell_type": "code",
   "execution_count": 123,
   "id": "23e2c2fd",
   "metadata": {},
   "outputs": [],
   "source": [
    "# 3. (600자)와 같이 글자수 지정 내용 지우기! \n",
    "df['question']=df['question'].map(lambda x:re.sub('\\(\\d+자.*\\)', '', str(x))) "
   ]
  },
  {
   "cell_type": "code",
   "execution_count": 126,
   "id": "648aca10",
   "metadata": {},
   "outputs": [],
   "source": [
    "# 4. (최소 100자, 최대 500자 입력가능)와 같이 글자수 지정 내용 지우기! \n",
    "df['question']=df['question'].map(lambda x:re.sub('\\(.+\\d자.+\\d자.*\\)', '', str(x))) "
   ]
  },
  {
   "cell_type": "code",
   "execution_count": 99,
   "id": "0316a058",
   "metadata": {},
   "outputs": [],
   "source": [
    "# 5. [ 50자 이상 1000자 이내] 와 같이 글자수 지정 내용 지우기! \n",
    "df['question']=df['question'].map(lambda x:re.sub('\\[.+\\d자.+\\d자.*\\]', '', str(x))) "
   ]
  },
  {
   "cell_type": "code",
   "execution_count": 104,
   "id": "0852cda4",
   "metadata": {},
   "outputs": [],
   "source": [
    "# 6. (1200Byte) 와 같이 Byte 수 내용 지우기\n",
    "df['question']=df['question'].map(lambda x:re.sub('\\(\\d+,?\\d+Byte\\)', '', str(x))) "
   ]
  },
  {
   "cell_type": "markdown",
   "id": "3e664c33",
   "metadata": {},
   "source": [
    "### Examples"
   ]
  },
  {
   "cell_type": "code",
   "execution_count": 129,
   "id": "ef0cf662",
   "metadata": {},
   "outputs": [
    {
     "data": {
      "text/plain": [
       "'여러분이선택한 계열사(CGV) 및 직무에 대한 지원동기는 무엇인가요? ① 선택한계열사(CGV)가 아니면안되는 이유, ② 직무에 관심갖게 된 계기, ③ 본인이 직무를 잘 수행할 수 있는 이유를 반드시 포함하여 구체적으로 작성해 주세요.'"
      ]
     },
     "execution_count": 129,
     "metadata": {},
     "output_type": "execute_result"
    }
   ],
   "source": [
    "#1번 확인용\n",
    "df.question.iloc[29414]"
   ]
  },
  {
   "cell_type": "code",
   "execution_count": 130,
   "id": "c1df48aa",
   "metadata": {},
   "outputs": [
    {
     "data": {
      "text/plain": [
       "'우리 회사에 지원하게 된 동기는 무엇이며, 입사 후 어떻게 성장해 나갈 것인지 기술하십시오 '"
      ]
     },
     "execution_count": 130,
     "metadata": {},
     "output_type": "execute_result"
    }
   ],
   "source": [
    "# 3번 확인용\n",
    "df.question.iloc[18392]"
   ]
  },
  {
   "cell_type": "code",
   "execution_count": 131,
   "id": "14f062c7",
   "metadata": {},
   "outputs": [
    {
     "data": {
      "text/plain": [
       "'자기소개서 -본인의 삶의 목표에 대해 서술하고, 해당 목표를 달성하기 위해 추진해온 노력 및 행동에 대하여 기술해주시기 바랍니다. '"
      ]
     },
     "execution_count": 131,
     "metadata": {},
     "output_type": "execute_result"
    }
   ],
   "source": [
    "# 4번 확인용\n",
    "df.question.iloc[392]"
   ]
  },
  {
   "cell_type": "code",
   "execution_count": 132,
   "id": "8186a858",
   "metadata": {},
   "outputs": [
    {
     "data": {
      "text/plain": [
       "'당사를 지원한 동기와 입사 후 만들고 싶은 당사의 모습을 설명하고, 이를 위해 본인은 어떤 노력을 할 것인지 설명해주십시오. [ 50자 이상 1000자 이내] '"
      ]
     },
     "execution_count": 132,
     "metadata": {},
     "output_type": "execute_result"
    }
   ],
   "source": [
    "# 5번 확인용\n",
    "df.question.iloc[16632]"
   ]
  },
  {
   "cell_type": "code",
   "execution_count": 133,
   "id": "f642ebb5",
   "metadata": {},
   "outputs": [
    {
     "data": {
      "text/plain": [
       "'본인의 지원 직무와 관련하여 자신의 강점/약점을 기술, 약점을 보완하기 위한 노력을 기술하십시오. (1200Byte)'"
      ]
     },
     "execution_count": 133,
     "metadata": {},
     "output_type": "execute_result"
    }
   ],
   "source": [
    "# 6번 확인용 \n",
    "df.question.iloc[16932]"
   ]
  },
  {
   "cell_type": "code",
   "execution_count": 134,
   "id": "6b39409b",
   "metadata": {},
   "outputs": [
    {
     "data": {
      "text/html": [
       "<div>\n",
       "<style scoped>\n",
       "    .dataframe tbody tr th:only-of-type {\n",
       "        vertical-align: middle;\n",
       "    }\n",
       "\n",
       "    .dataframe tbody tr th {\n",
       "        vertical-align: top;\n",
       "    }\n",
       "\n",
       "    .dataframe thead th {\n",
       "        text-align: right;\n",
       "    }\n",
       "</style>\n",
       "<table border=\"1\" class=\"dataframe\">\n",
       "  <thead>\n",
       "    <tr style=\"text-align: right;\">\n",
       "      <th></th>\n",
       "      <th>section</th>\n",
       "      <th>company</th>\n",
       "      <th>date</th>\n",
       "      <th>work_type</th>\n",
       "      <th>job</th>\n",
       "      <th>question</th>\n",
       "      <th>answer</th>\n",
       "    </tr>\n",
       "  </thead>\n",
       "  <tbody>\n",
       "    <tr>\n",
       "      <th>811</th>\n",
       "      <td>기획·전략</td>\n",
       "      <td>신한카드(주)</td>\n",
       "      <td>2018년 하반기</td>\n",
       "      <td>신입</td>\n",
       "      <td>경영·비즈니스기획</td>\n",
       "      <td>남들과 다른 새로운 관점으로 변화/혁신을 추구한 경험과 그를 통해 배운점이 무엇인지...</td>\n",
       "      <td>\"문제해결능력\" 대학교 3학년 때 창의력 캠프에서 최우수상을 받은 경험이 있습니다....</td>\n",
       "    </tr>\n",
       "    <tr>\n",
       "      <th>812</th>\n",
       "      <td>기획·전략</td>\n",
       "      <td>신한카드(주)</td>\n",
       "      <td>2018년 하반기</td>\n",
       "      <td>신입</td>\n",
       "      <td>경영·비즈니스기획</td>\n",
       "      <td>가장 힘들었던 실패의 경험을 통해 어떤 것을 배우게 되었고, 또 앞으로의 목표에 어...</td>\n",
       "      <td>\"사람과 규정에 대한 정교함\" 대학교 2학년 때 학생기자단 단장을 하면서 조직 및 ...</td>\n",
       "    </tr>\n",
       "    <tr>\n",
       "      <th>813</th>\n",
       "      <td>기획·전략</td>\n",
       "      <td>신한카드(주)</td>\n",
       "      <td>2018년 하반기</td>\n",
       "      <td>신입</td>\n",
       "      <td>경영·비즈니스기획</td>\n",
       "      <td>지원자가 회사를 선택하는 기준은 무엇이며, 신한카드가 그 기준에 부합한 이유와 근거...</td>\n",
       "      <td>\"멀티플라이어를 구현하는 회사\" 멀티플라이어는 동료들의 역량을 2배로 끌어올리고 발...</td>\n",
       "    </tr>\n",
       "    <tr>\n",
       "      <th>814</th>\n",
       "      <td>기획·전략</td>\n",
       "      <td>신한카드(주)</td>\n",
       "      <td>2018년 하반기</td>\n",
       "      <td>신입</td>\n",
       "      <td>경영·비즈니스기획</td>\n",
       "      <td>입사 후 10년 동안의 회사생활 Plan을 그려보고 그것을 추구하는 이유를 기술하시...</td>\n",
       "      <td>\"혁신적인 아이디어 2개 제시\" 먼저 업무의 메커니즘과 운영 프로세스를 파악하겠습니...</td>\n",
       "    </tr>\n",
       "    <tr>\n",
       "      <th>815</th>\n",
       "      <td>기획·전략</td>\n",
       "      <td>신한카드(주)</td>\n",
       "      <td>2018년 하반기</td>\n",
       "      <td>신입</td>\n",
       "      <td>경영·비즈니스기획</td>\n",
       "      <td>신한카드는 고객에게 ‘어떤회사’이고, ‘어떤회사’가 되어야 한다고 생각하는지 기술하...</td>\n",
       "      <td>\"고객에게 힘이 되어주는 회사\" 신한카드는 20대들에게 힘이 되어주는 카드사라고 생...</td>\n",
       "    </tr>\n",
       "    <tr>\n",
       "      <th>...</th>\n",
       "      <td>...</td>\n",
       "      <td>...</td>\n",
       "      <td>...</td>\n",
       "      <td>...</td>\n",
       "      <td>...</td>\n",
       "      <td>...</td>\n",
       "      <td>...</td>\n",
       "    </tr>\n",
       "    <tr>\n",
       "      <th>29041</th>\n",
       "      <td>건축·시설</td>\n",
       "      <td>서울주택도시공사</td>\n",
       "      <td>2016년 상반기</td>\n",
       "      <td>신입</td>\n",
       "      <td>건축기사</td>\n",
       "      <td>지금까지 살아오면서 자신의 이익을 초월하여 자발적으로 주변의 사람에게 도움을 주었던...</td>\n",
       "      <td>\"값으로 매길 수 없는 인간관계의 신뢰를 얻다\"서울에서 대학을 다니던 시절, 고향 ...</td>\n",
       "    </tr>\n",
       "    <tr>\n",
       "      <th>29042</th>\n",
       "      <td>건축·시설</td>\n",
       "      <td>서울주택도시공사</td>\n",
       "      <td>2016년 상반기</td>\n",
       "      <td>신입</td>\n",
       "      <td>건축기사</td>\n",
       "      <td>SH공사 직원으로서 가져야 할 사회적 책임은 어떤 것이 있으며, 그 이유는 무엇인지...</td>\n",
       "      <td>\"공공공간의 확대로 도시의 쾌적성 부여\"SH공사는 일반 기업과 달리, 서울 시민이 ...</td>\n",
       "    </tr>\n",
       "    <tr>\n",
       "      <th>29078</th>\n",
       "      <td>건축·시설</td>\n",
       "      <td>㈜효성</td>\n",
       "      <td>2015년 하반기</td>\n",
       "      <td>신입</td>\n",
       "      <td>시설관리자</td>\n",
       "      <td>자신의 성장과정과 학창시절에 대해 기술하여 주십시오. (500~700자 / 1,40...</td>\n",
       "      <td>[원칙과 규율]학창시절, 중학교 때부터 고등학교 때까지 부반장, 부장 등 학급 내에...</td>\n",
       "    </tr>\n",
       "    <tr>\n",
       "      <th>29079</th>\n",
       "      <td>건축·시설</td>\n",
       "      <td>㈜효성</td>\n",
       "      <td>2015년 하반기</td>\n",
       "      <td>신입</td>\n",
       "      <td>시설관리자</td>\n",
       "      <td>지원 직무 관련 자신이 갖춘 역량에 대하여 구체적으로 기술하여 주십시오. (수강과목...</td>\n",
       "      <td>[뼛속까지 안전]저는 어릴 때부터 기본과 원칙의 준수를 중요하게 생각해 왔습니다. ...</td>\n",
       "    </tr>\n",
       "    <tr>\n",
       "      <th>29080</th>\n",
       "      <td>건축·시설</td>\n",
       "      <td>㈜효성</td>\n",
       "      <td>2015년 하반기</td>\n",
       "      <td>신입</td>\n",
       "      <td>시설관리자</td>\n",
       "      <td>지원 사업부 또는 직무에 지원하게 된 동기와 본인이 지원하는 사업부의 시장 경쟁력을...</td>\n",
       "      <td>[감성안전]요즘 기업의 추세는 `안전경영`이라 생각합니다. 이를 통해, 안정되고 투...</td>\n",
       "    </tr>\n",
       "  </tbody>\n",
       "</table>\n",
       "<p>255 rows × 7 columns</p>\n",
       "</div>"
      ],
      "text/plain": [
       "      section   company       date work_type        job  \\\n",
       "811     기획·전략   신한카드(주)  2018년 하반기        신입  경영·비즈니스기획   \n",
       "812     기획·전략   신한카드(주)  2018년 하반기        신입  경영·비즈니스기획   \n",
       "813     기획·전략   신한카드(주)  2018년 하반기        신입  경영·비즈니스기획   \n",
       "814     기획·전략   신한카드(주)  2018년 하반기        신입  경영·비즈니스기획   \n",
       "815     기획·전략   신한카드(주)  2018년 하반기        신입  경영·비즈니스기획   \n",
       "...       ...       ...        ...       ...        ...   \n",
       "29041   건축·시설  서울주택도시공사  2016년 상반기        신입       건축기사   \n",
       "29042   건축·시설  서울주택도시공사  2016년 상반기        신입       건축기사   \n",
       "29078   건축·시설       ㈜효성  2015년 하반기        신입      시설관리자   \n",
       "29079   건축·시설       ㈜효성  2015년 하반기        신입      시설관리자   \n",
       "29080   건축·시설       ㈜효성  2015년 하반기        신입      시설관리자   \n",
       "\n",
       "                                                question  \\\n",
       "811    남들과 다른 새로운 관점으로 변화/혁신을 추구한 경험과 그를 통해 배운점이 무엇인지...   \n",
       "812    가장 힘들었던 실패의 경험을 통해 어떤 것을 배우게 되었고, 또 앞으로의 목표에 어...   \n",
       "813    지원자가 회사를 선택하는 기준은 무엇이며, 신한카드가 그 기준에 부합한 이유와 근거...   \n",
       "814    입사 후 10년 동안의 회사생활 Plan을 그려보고 그것을 추구하는 이유를 기술하시...   \n",
       "815    신한카드는 고객에게 ‘어떤회사’이고, ‘어떤회사’가 되어야 한다고 생각하는지 기술하...   \n",
       "...                                                  ...   \n",
       "29041  지금까지 살아오면서 자신의 이익을 초월하여 자발적으로 주변의 사람에게 도움을 주었던...   \n",
       "29042  SH공사 직원으로서 가져야 할 사회적 책임은 어떤 것이 있으며, 그 이유는 무엇인지...   \n",
       "29078  자신의 성장과정과 학창시절에 대해 기술하여 주십시오. (500~700자 / 1,40...   \n",
       "29079  지원 직무 관련 자신이 갖춘 역량에 대하여 구체적으로 기술하여 주십시오. (수강과목...   \n",
       "29080  지원 사업부 또는 직무에 지원하게 된 동기와 본인이 지원하는 사업부의 시장 경쟁력을...   \n",
       "\n",
       "                                                  answer  \n",
       "811    \"문제해결능력\" 대학교 3학년 때 창의력 캠프에서 최우수상을 받은 경험이 있습니다....  \n",
       "812    \"사람과 규정에 대한 정교함\" 대학교 2학년 때 학생기자단 단장을 하면서 조직 및 ...  \n",
       "813    \"멀티플라이어를 구현하는 회사\" 멀티플라이어는 동료들의 역량을 2배로 끌어올리고 발...  \n",
       "814    \"혁신적인 아이디어 2개 제시\" 먼저 업무의 메커니즘과 운영 프로세스를 파악하겠습니...  \n",
       "815    \"고객에게 힘이 되어주는 회사\" 신한카드는 20대들에게 힘이 되어주는 카드사라고 생...  \n",
       "...                                                  ...  \n",
       "29041  \"값으로 매길 수 없는 인간관계의 신뢰를 얻다\"서울에서 대학을 다니던 시절, 고향 ...  \n",
       "29042  \"공공공간의 확대로 도시의 쾌적성 부여\"SH공사는 일반 기업과 달리, 서울 시민이 ...  \n",
       "29078  [원칙과 규율]학창시절, 중학교 때부터 고등학교 때까지 부반장, 부장 등 학급 내에...  \n",
       "29079  [뼛속까지 안전]저는 어릴 때부터 기본과 원칙의 준수를 중요하게 생각해 왔습니다. ...  \n",
       "29080  [감성안전]요즘 기업의 추세는 `안전경영`이라 생각합니다. 이를 통해, 안정되고 투...  \n",
       "\n",
       "[255 rows x 7 columns]"
      ]
     },
     "execution_count": 134,
     "metadata": {},
     "output_type": "execute_result"
    }
   ],
   "source": [
    "df[df.question.str.contains('Byte')]"
   ]
  },
  {
   "cell_type": "code",
   "execution_count": 29,
   "id": "abeaf76e",
   "metadata": {},
   "outputs": [
    {
     "data": {
      "text/html": [
       "<div>\n",
       "<style scoped>\n",
       "    .dataframe tbody tr th:only-of-type {\n",
       "        vertical-align: middle;\n",
       "    }\n",
       "\n",
       "    .dataframe tbody tr th {\n",
       "        vertical-align: top;\n",
       "    }\n",
       "\n",
       "    .dataframe thead th {\n",
       "        text-align: right;\n",
       "    }\n",
       "</style>\n",
       "<table border=\"1\" class=\"dataframe\">\n",
       "  <thead>\n",
       "    <tr style=\"text-align: right;\">\n",
       "      <th></th>\n",
       "      <th>section</th>\n",
       "      <th>company</th>\n",
       "      <th>date</th>\n",
       "      <th>work_type</th>\n",
       "      <th>job</th>\n",
       "      <th>question</th>\n",
       "      <th>answer</th>\n",
       "    </tr>\n",
       "  </thead>\n",
       "  <tbody>\n",
       "    <tr>\n",
       "      <th>209</th>\n",
       "      <td>기획·전략</td>\n",
       "      <td>한국산업기술진흥원</td>\n",
       "      <td>2022년 상반기</td>\n",
       "      <td>신입</td>\n",
       "      <td>경영·비즈니스기획</td>\n",
       "      <td>경험/경력기술서 ※ 경험·경력 기술서 작성 시 성별, 학력, 나이, 출신지역, 가족...</td>\n",
       "      <td>\"성공적인 세미나 준비하기\" OOOOOOOO관리원 OOOOOO 정책총괄팀 인턴에서 ...</td>\n",
       "    </tr>\n",
       "    <tr>\n",
       "      <th>2106</th>\n",
       "      <td>법무·사무·총무</td>\n",
       "      <td>연세대학교</td>\n",
       "      <td>2022년 하반기</td>\n",
       "      <td>신입</td>\n",
       "      <td>사무담당자</td>\n",
       "      <td>종교관</td>\n",
       "      <td>학창시절, 제게 선교하는 사람이 싫었습니다. 일요일에 친구들과 축구, 야구 경기를 ...</td>\n",
       "    </tr>\n",
       "    <tr>\n",
       "      <th>2220</th>\n",
       "      <td>법무·사무·총무</td>\n",
       "      <td>동국대학교</td>\n",
       "      <td>2022년 상반기</td>\n",
       "      <td>신입</td>\n",
       "      <td>사무담당자</td>\n",
       "      <td>종교관에 대해 기술하시오</td>\n",
       "      <td>저에게 종교란 어려움을 현명하게 이겨낼 수 있도록 믿음을 주는 존재입니다. 보통 인...</td>\n",
       "    </tr>\n",
       "    <tr>\n",
       "      <th>2225</th>\n",
       "      <td>법무·사무·총무</td>\n",
       "      <td>동국대학교 경주병원</td>\n",
       "      <td>2022년 상반기</td>\n",
       "      <td>신입</td>\n",
       "      <td>사무담당자</td>\n",
       "      <td>종교관에 대해 기술하시오</td>\n",
       "      <td>저에게 종교란 어려움을 현명하게 이겨낼 수 있도록 믿음을 주는 존재입니다. 보통 인...</td>\n",
       "    </tr>\n",
       "    <tr>\n",
       "      <th>2724</th>\n",
       "      <td>법무·사무·총무</td>\n",
       "      <td>연세대학교</td>\n",
       "      <td>2019년 하반기</td>\n",
       "      <td>신입</td>\n",
       "      <td>사무담당자</td>\n",
       "      <td>종교관</td>\n",
       "      <td>종교는 인생을 살아가는 데 있어서 위안과 힘이 되는 존재라고 생각합니다. 가족의 영...</td>\n",
       "    </tr>\n",
       "    <tr>\n",
       "      <th>3520</th>\n",
       "      <td>법무·사무·총무</td>\n",
       "      <td>연세대학교</td>\n",
       "      <td>2017년 상반기</td>\n",
       "      <td>신입</td>\n",
       "      <td>사무담당자</td>\n",
       "      <td>종교관</td>\n",
       "      <td>저는 꾸준히 믿고 있는 신앙 및 현재 다니고 있는 교회는 없지만, 대부분의 종교에 ...</td>\n",
       "    </tr>\n",
       "  </tbody>\n",
       "</table>\n",
       "</div>"
      ],
      "text/plain": [
       "       section     company       date work_type        job  \\\n",
       "209      기획·전략   한국산업기술진흥원  2022년 상반기        신입  경영·비즈니스기획   \n",
       "2106  법무·사무·총무       연세대학교  2022년 하반기        신입      사무담당자   \n",
       "2220  법무·사무·총무       동국대학교  2022년 상반기        신입      사무담당자   \n",
       "2225  법무·사무·총무  동국대학교 경주병원  2022년 상반기        신입      사무담당자   \n",
       "2724  법무·사무·총무       연세대학교  2019년 하반기        신입      사무담당자   \n",
       "3520  법무·사무·총무       연세대학교  2017년 상반기        신입      사무담당자   \n",
       "\n",
       "                                               question  \\\n",
       "209   경험/경력기술서 ※ 경험·경력 기술서 작성 시 성별, 학력, 나이, 출신지역, 가족...   \n",
       "2106                                                종교관   \n",
       "2220                                     종교관에 대해 기술하시오    \n",
       "2225                                     종교관에 대해 기술하시오    \n",
       "2724                                                종교관   \n",
       "3520                                                종교관   \n",
       "\n",
       "                                                 answer  \n",
       "209   \"성공적인 세미나 준비하기\" OOOOOOOO관리원 OOOOOO 정책총괄팀 인턴에서 ...  \n",
       "2106  학창시절, 제게 선교하는 사람이 싫었습니다. 일요일에 친구들과 축구, 야구 경기를 ...  \n",
       "2220  저에게 종교란 어려움을 현명하게 이겨낼 수 있도록 믿음을 주는 존재입니다. 보통 인...  \n",
       "2225  저에게 종교란 어려움을 현명하게 이겨낼 수 있도록 믿음을 주는 존재입니다. 보통 인...  \n",
       "2724  종교는 인생을 살아가는 데 있어서 위안과 힘이 되는 존재라고 생각합니다. 가족의 영...  \n",
       "3520  저는 꾸준히 믿고 있는 신앙 및 현재 다니고 있는 교회는 없지만, 대부분의 종교에 ...  "
      ]
     },
     "execution_count": 29,
     "metadata": {},
     "output_type": "execute_result"
    }
   ],
   "source": [
    "df[df.question.str.contains('')]"
   ]
  },
  {
   "cell_type": "code",
   "execution_count": 33,
   "id": "9414056d",
   "metadata": {},
   "outputs": [
    {
     "data": {
      "text/plain": [
       "'문제를 해결하기 위해 어떤 행동을 하였습니까? 아무 행동도 하지 않았다면 그 이유는 무엇입니까? (최소 100자, 최대 500자 입력가능)'"
      ]
     },
     "execution_count": 33,
     "metadata": {},
     "output_type": "execute_result"
    }
   ],
   "source": [
    "df.question.loc[2127]"
   ]
  },
  {
   "cell_type": "markdown",
   "id": "eb4f649d",
   "metadata": {},
   "source": [
    "# 문항처리  1-6600 (다은)"
   ]
  },
  {
   "cell_type": "code",
   "execution_count": 57,
   "id": "6ac2b078",
   "metadata": {},
   "outputs": [
    {
     "data": {
      "text/plain": [
       "Index(['입사동기',\n",
       "       '본인이 살아오면서 가장 도전적이었거나 가장 인상 깊었던 경험을 기술하세요 (예. 프로젝트 및 공모전 경험, 학회/동아리 등 단체활동, 인턴/아르바이트 등 사회경험, 리더십 수행 경험, 역량개발 경험, 해외경험, 국내/외 봉사활동 등 / 50자 이상 800자 이내)',\n",
       "       '한국지역난방공사의 핵심가치는 “도전, 열정, 상생”입니다. 본인의 지식과 경험에 기반하여 기술하여 주시기 바랍니다.',\n",
       "       '자신에게 요구된 것보다 더 높은 목표를 스스로 세워 시도했던 경험 중 가장 기억에 남는 것은 무엇입니까? 목표 달성 과정에서 아쉬웠던 점이나 그 때 느꼈던 자신의 한계는 무엇이고, 이를 극복하기 위해 했던 행동과 생각, 결과에 대해 최대한 구체적으로 작성해 주십시오. (1000 자 10 단락 이내) ',\n",
       "       '지원자가 중부발전 및 지원분야 관심을 가지게 된 계기는 무엇이며, 이를 위해 그 동안 어떤 노력을 했는지 기술해 주시기 바랍니다.',\n",
       "       '본인이 생각하는 본인만의 차별화된 역량은 무엇이며 지금까지 해당 역량을 개발하기 위해 수행한 활동들을 구체적 사례 중심으로 기술해 주시기 바랍니다.',\n",
       "       '지원한 직무와 관련하여 본인만의 강점과 성격을 기술해 주세요.',\n",
       "       '자신의 성장과정 및 개인 특성, 장점 중심으로 기술해주시기 바랍니다.',\n",
       "       '소속된 집단 내에서 소통과 협력을 통하여 조직 내 시너지를 이뤄낸 경험이 있으면 소개해 주시기 바랍니다. (당시의 상황, 소통과 협력의 방법 및 시너지 창출의 결과를 명확하게 작성하여 주십시오.)',\n",
       "       '경력사항.',\n",
       "       '[지원동기 및 포부]많은 직장 중에서 항공사를 선택하게 된 이유와 특히 대한항공에 지원하게 된 동기 및 입사 후 포부에 대해 구체적으로 기술하시오.(600자 이내)',\n",
       "       '지원동기를 구체적으로 적어 주십시오 (500자 미만)',\n",
       "       '최근 5년간 업무(또는 학습)를 수행하다가 본인의 지식 부족으로 업무가 미흡했던 경우, 업무를 위한 자기개발을 수행한 경험에 대하여 기술하여 주십시오.',\n",
       "       '기타', '대학생활 중 탁월한 성과를 냈거나 실패를 했던 경험에 대해 자세히 기술해 주세요.', '성격의 장,단점',\n",
       "       '한샘에서 성장해 나갈 자신의 10년 후 개인적인 목표, 이루고 싶은 인생의 목표는 무엇인가요?',\n",
       "       '타인과의 협업 과정에서 나타나는 본인의 장점 및 단점, 단점을 극복하기 위한 노력 등을 사례를 통해 구체적으로 작성해주세요. * [700자 이내]',\n",
       "       '한컴이 꿈꾸는 미래...당신이 꿈꾸는 미래...함께 할 수 있다면, 당신이 가장 중요하게 생각하는 가치의 기준은 무엇인지 구체적으로 서술해 주세요.'],\n",
       "      dtype='object')"
      ]
     },
     "execution_count": 57,
     "metadata": {},
     "output_type": "execute_result"
    }
   ],
   "source": [
    "q_list = df['question'].value_counts().index\n",
    "q_list[321:340]"
   ]
  },
  {
   "cell_type": "code",
   "execution_count": 47,
   "id": "6592f3e8",
   "metadata": {},
   "outputs": [
    {
     "data": {
      "text/plain": [
       "19257"
      ]
     },
     "execution_count": 47,
     "metadata": {},
     "output_type": "execute_result"
    }
   ],
   "source": [
    "len(q_list)"
   ]
  },
  {
   "cell_type": "code",
   "execution_count": null,
   "id": "2ea22aec",
   "metadata": {},
   "outputs": [],
   "source": []
  }
 ],
 "metadata": {
  "kernelspec": {
   "display_name": "Python 3 (ipykernel)",
   "language": "python",
   "name": "python3"
  },
  "language_info": {
   "codemirror_mode": {
    "name": "ipython",
    "version": 3
   },
   "file_extension": ".py",
   "mimetype": "text/x-python",
   "name": "python",
   "nbconvert_exporter": "python",
   "pygments_lexer": "ipython3",
   "version": "3.10.9"
  }
 },
 "nbformat": 4,
 "nbformat_minor": 5
}
